{
 "cells": [
  {
   "cell_type": "code",
   "execution_count": 2,
   "id": "097356a5-f8e0-402e-b620-594a3fca6157",
   "metadata": {},
   "outputs": [],
   "source": [
    "import requests\n",
    "import json\n",
    "import pandas as pd"
   ]
  },
  {
   "cell_type": "markdown",
   "id": "4f760d1d-eb22-4e22-ba96-ac20e50eeafe",
   "metadata": {},
   "source": [
    "### Load fresh data"
   ]
  },
  {
   "cell_type": "code",
   "execution_count": 16,
   "id": "b21fabe5-eccb-4144-90e5-d19dc74a621b",
   "metadata": {
    "collapsed": true,
    "jupyter": {
     "outputs_hidden": true
    },
    "tags": []
   },
   "outputs": [
    {
     "name": "stdout",
     "output_type": "stream",
     "text": [
      "   year  playerId         playerName    type  rank     playerFullName  \\\n",
      "0  2021    521692     Salvador Perez  player     1     Salvador Perez   \n",
      "1  2021    547989         Jose Abreu  player     2         Jose Abreu   \n",
      "2  2021    606192  Teoscar Hernandez  player     3  Teoscar Hernandez   \n",
      "3  2021    646240      Rafael Devers  player     4      Rafael Devers   \n",
      "4  2021    594807        Adam Duvall  player     4        Adam Duvall   \n",
      "\n",
      "  playerFirstName playerLastName playerUseName playerInitLastName  ...   slg  \\\n",
      "0        Salvador          Perez      Salvador            S Perez  ...  .544   \n",
      "1            Jose          Abreu          Jose            J Abreu  ...  .481   \n",
      "2         Teoscar      Hernandez       Teoscar        T Hernández  ...  .524   \n",
      "3          Rafael         Devers        Rafael           R Devers  ...  .538   \n",
      "4            Adam         Duvall          Adam           A Duvall  ...  .491   \n",
      "\n",
      "    ops caughtStealing stolenBases stolenBasePercentage  groundIntoDoublePlay  \\\n",
      "0  .860              0           1                1.000                    14   \n",
      "1  .832              0           1                1.000                    28   \n",
      "2  .870              4          12                 .750                     5   \n",
      "3  .890              5           5                 .500                    13   \n",
      "4  .772              0           5                1.000                     7   \n",
      "\n",
      "   rbi groundOutsToAirouts catchersInterference  atBatsPerHomeRun  \n",
      "0  121                0.86                    0             12.92  \n",
      "1  117                1.21                    0             18.87  \n",
      "2  116                0.84                    0             17.19  \n",
      "3  113                0.99                    0             15.55  \n",
      "4  113                0.57                    0             13.50  \n",
      "\n",
      "[5 rows x 72 columns]\n"
     ]
    }
   ],
   "source": [
    "# url = \"https://bdfed.stitch.mlbinfra.com/bdfed/stats/player?stitch_env=prod&season=2021&sportId=1&stats=season&group=hitting&gameType=R&limit=25&offset=0&sortStat=runsBattedIn&order=desc\"\n",
    "\n",
    "# r = requests.get(url)\n",
    "\n",
    "# player_data = r.json()\n",
    "\n",
    "# df = pd.json_normalize(player_data['stats'])\n",
    "# print(df.head())"
   ]
  },
  {
   "cell_type": "markdown",
   "id": "db4ceac9-9f8c-40dd-8f17-15700f68d7ee",
   "metadata": {},
   "source": [
    "### Load saved file"
   ]
  },
  {
   "cell_type": "code",
   "execution_count": 46,
   "id": "460ae044-473e-4ece-98b2-2f58c88d2b8f",
   "metadata": {
    "tags": []
   },
   "outputs": [
    {
     "data": {
      "text/html": [
       "<div>\n",
       "<style scoped>\n",
       "    .dataframe tbody tr th:only-of-type {\n",
       "        vertical-align: middle;\n",
       "    }\n",
       "\n",
       "    .dataframe tbody tr th {\n",
       "        vertical-align: top;\n",
       "    }\n",
       "\n",
       "    .dataframe thead th {\n",
       "        text-align: right;\n",
       "    }\n",
       "</style>\n",
       "<table border=\"1\" class=\"dataframe\">\n",
       "  <thead>\n",
       "    <tr style=\"text-align: right;\">\n",
       "      <th></th>\n",
       "      <th>year</th>\n",
       "      <th>playerId</th>\n",
       "      <th>playerName</th>\n",
       "      <th>type</th>\n",
       "      <th>rank</th>\n",
       "      <th>playerFullName</th>\n",
       "      <th>playerFirstName</th>\n",
       "      <th>playerLastName</th>\n",
       "      <th>playerUseName</th>\n",
       "      <th>playerInitLastName</th>\n",
       "      <th>...</th>\n",
       "      <th>slg</th>\n",
       "      <th>ops</th>\n",
       "      <th>caughtStealing</th>\n",
       "      <th>stolenBases</th>\n",
       "      <th>stolenBasePercentage</th>\n",
       "      <th>groundIntoDoublePlay</th>\n",
       "      <th>rbi</th>\n",
       "      <th>groundOutsToAirouts</th>\n",
       "      <th>catchersInterference</th>\n",
       "      <th>atBatsPerHomeRun</th>\n",
       "    </tr>\n",
       "  </thead>\n",
       "  <tbody>\n",
       "    <tr>\n",
       "      <th>0</th>\n",
       "      <td>2021</td>\n",
       "      <td>521692</td>\n",
       "      <td>Salvador Perez</td>\n",
       "      <td>player</td>\n",
       "      <td>1</td>\n",
       "      <td>Salvador Perez</td>\n",
       "      <td>Salvador</td>\n",
       "      <td>Perez</td>\n",
       "      <td>Salvador</td>\n",
       "      <td>S Perez</td>\n",
       "      <td>...</td>\n",
       "      <td>0.544</td>\n",
       "      <td>0.860</td>\n",
       "      <td>0</td>\n",
       "      <td>1</td>\n",
       "      <td>1.000</td>\n",
       "      <td>14</td>\n",
       "      <td>121</td>\n",
       "      <td>0.86</td>\n",
       "      <td>0</td>\n",
       "      <td>12.92</td>\n",
       "    </tr>\n",
       "    <tr>\n",
       "      <th>1</th>\n",
       "      <td>2021</td>\n",
       "      <td>547989</td>\n",
       "      <td>Jose Abreu</td>\n",
       "      <td>player</td>\n",
       "      <td>2</td>\n",
       "      <td>Jose Abreu</td>\n",
       "      <td>Jose</td>\n",
       "      <td>Abreu</td>\n",
       "      <td>Jose</td>\n",
       "      <td>J Abreu</td>\n",
       "      <td>...</td>\n",
       "      <td>0.481</td>\n",
       "      <td>0.832</td>\n",
       "      <td>0</td>\n",
       "      <td>1</td>\n",
       "      <td>1.000</td>\n",
       "      <td>28</td>\n",
       "      <td>117</td>\n",
       "      <td>1.21</td>\n",
       "      <td>0</td>\n",
       "      <td>18.87</td>\n",
       "    </tr>\n",
       "    <tr>\n",
       "      <th>2</th>\n",
       "      <td>2021</td>\n",
       "      <td>606192</td>\n",
       "      <td>Teoscar Hernandez</td>\n",
       "      <td>player</td>\n",
       "      <td>3</td>\n",
       "      <td>Teoscar Hernandez</td>\n",
       "      <td>Teoscar</td>\n",
       "      <td>Hernandez</td>\n",
       "      <td>Teoscar</td>\n",
       "      <td>T Hernández</td>\n",
       "      <td>...</td>\n",
       "      <td>0.524</td>\n",
       "      <td>0.870</td>\n",
       "      <td>4</td>\n",
       "      <td>12</td>\n",
       "      <td>.750</td>\n",
       "      <td>5</td>\n",
       "      <td>116</td>\n",
       "      <td>0.84</td>\n",
       "      <td>0</td>\n",
       "      <td>17.19</td>\n",
       "    </tr>\n",
       "    <tr>\n",
       "      <th>3</th>\n",
       "      <td>2021</td>\n",
       "      <td>646240</td>\n",
       "      <td>Rafael Devers</td>\n",
       "      <td>player</td>\n",
       "      <td>4</td>\n",
       "      <td>Rafael Devers</td>\n",
       "      <td>Rafael</td>\n",
       "      <td>Devers</td>\n",
       "      <td>Rafael</td>\n",
       "      <td>R Devers</td>\n",
       "      <td>...</td>\n",
       "      <td>0.538</td>\n",
       "      <td>0.890</td>\n",
       "      <td>5</td>\n",
       "      <td>5</td>\n",
       "      <td>.500</td>\n",
       "      <td>13</td>\n",
       "      <td>113</td>\n",
       "      <td>0.99</td>\n",
       "      <td>0</td>\n",
       "      <td>15.55</td>\n",
       "    </tr>\n",
       "    <tr>\n",
       "      <th>4</th>\n",
       "      <td>2021</td>\n",
       "      <td>594807</td>\n",
       "      <td>Adam Duvall</td>\n",
       "      <td>player</td>\n",
       "      <td>4</td>\n",
       "      <td>Adam Duvall</td>\n",
       "      <td>Adam</td>\n",
       "      <td>Duvall</td>\n",
       "      <td>Adam</td>\n",
       "      <td>A Duvall</td>\n",
       "      <td>...</td>\n",
       "      <td>0.491</td>\n",
       "      <td>0.772</td>\n",
       "      <td>0</td>\n",
       "      <td>5</td>\n",
       "      <td>1.000</td>\n",
       "      <td>7</td>\n",
       "      <td>113</td>\n",
       "      <td>0.57</td>\n",
       "      <td>0</td>\n",
       "      <td>13.50</td>\n",
       "    </tr>\n",
       "  </tbody>\n",
       "</table>\n",
       "<p>5 rows × 72 columns</p>\n",
       "</div>"
      ],
      "text/plain": [
       "   year  playerId         playerName    type  rank     playerFullName  \\\n",
       "0  2021    521692     Salvador Perez  player     1     Salvador Perez   \n",
       "1  2021    547989         Jose Abreu  player     2         Jose Abreu   \n",
       "2  2021    606192  Teoscar Hernandez  player     3  Teoscar Hernandez   \n",
       "3  2021    646240      Rafael Devers  player     4      Rafael Devers   \n",
       "4  2021    594807        Adam Duvall  player     4        Adam Duvall   \n",
       "\n",
       "  playerFirstName playerLastName playerUseName playerInitLastName  ...    slg  \\\n",
       "0        Salvador          Perez      Salvador            S Perez  ...  0.544   \n",
       "1            Jose          Abreu          Jose            J Abreu  ...  0.481   \n",
       "2         Teoscar      Hernandez       Teoscar        T Hernández  ...  0.524   \n",
       "3          Rafael         Devers        Rafael           R Devers  ...  0.538   \n",
       "4            Adam         Duvall          Adam           A Duvall  ...  0.491   \n",
       "\n",
       "     ops caughtStealing stolenBases stolenBasePercentage  \\\n",
       "0  0.860              0           1                1.000   \n",
       "1  0.832              0           1                1.000   \n",
       "2  0.870              4          12                 .750   \n",
       "3  0.890              5           5                 .500   \n",
       "4  0.772              0           5                1.000   \n",
       "\n",
       "   groundIntoDoublePlay  rbi groundOutsToAirouts catchersInterference  \\\n",
       "0                    14  121                0.86                    0   \n",
       "1                    28  117                1.21                    0   \n",
       "2                     5  116                0.84                    0   \n",
       "3                    13  113                0.99                    0   \n",
       "4                     7  113                0.57                    0   \n",
       "\n",
       "   atBatsPerHomeRun  \n",
       "0             12.92  \n",
       "1             18.87  \n",
       "2             17.19  \n",
       "3             15.55  \n",
       "4             13.50  \n",
       "\n",
       "[5 rows x 72 columns]"
      ]
     },
     "execution_count": 46,
     "metadata": {},
     "output_type": "execute_result"
    }
   ],
   "source": [
    "df = pd.read_csv(\"2021_mlb_data.csv\")\n",
    "df.head()"
   ]
  },
  {
   "cell_type": "markdown",
   "id": "ba25d516-0cf5-4a9c-b878-5b1d79dbb9cd",
   "metadata": {},
   "source": [
    "## Remove Columns"
   ]
  },
  {
   "cell_type": "code",
   "execution_count": 47,
   "id": "44f100a3-41d8-4f48-9b20-a6be756a8492",
   "metadata": {},
   "outputs": [],
   "source": [
    "drop_cols = [\"year\", \"playerName\", \"teamAbbrev\", \"position\", \"playerId\", \"type\", \"rank\", \"playerFullName\", \"playerFirstName\",\n",
    "             \"playerLastName\", \"playerUseName\", \"playerInitLastName\", \"teamId\", \"teamName\",\"teamShortName\",\n",
    "             \"leagueName\",\"leagueId\",\"positionAbbrev\", \"primaryPositionAbbrev\"]"
   ]
  },
  {
   "cell_type": "code",
   "execution_count": 48,
   "id": "17152cbc-a14e-4019-9df0-07b20b4c788b",
   "metadata": {
    "collapsed": true,
    "jupyter": {
     "outputs_hidden": true
    },
    "tags": []
   },
   "outputs": [
    {
     "data": {
      "text/html": [
       "<div>\n",
       "<style scoped>\n",
       "    .dataframe tbody tr th:only-of-type {\n",
       "        vertical-align: middle;\n",
       "    }\n",
       "\n",
       "    .dataframe tbody tr th {\n",
       "        vertical-align: top;\n",
       "    }\n",
       "\n",
       "    .dataframe thead th {\n",
       "        text-align: right;\n",
       "    }\n",
       "</style>\n",
       "<table border=\"1\" class=\"dataframe\">\n",
       "  <thead>\n",
       "    <tr style=\"text-align: right;\">\n",
       "      <th></th>\n",
       "      <th>plateAppearances</th>\n",
       "      <th>totalBases</th>\n",
       "      <th>leftOnBase</th>\n",
       "      <th>sacBunts</th>\n",
       "      <th>sacFlies</th>\n",
       "      <th>babip</th>\n",
       "      <th>extraBaseHits</th>\n",
       "      <th>hitByPitch</th>\n",
       "      <th>gidp</th>\n",
       "      <th>gidpOpp</th>\n",
       "      <th>...</th>\n",
       "      <th>slg</th>\n",
       "      <th>ops</th>\n",
       "      <th>caughtStealing</th>\n",
       "      <th>stolenBases</th>\n",
       "      <th>stolenBasePercentage</th>\n",
       "      <th>groundIntoDoublePlay</th>\n",
       "      <th>rbi</th>\n",
       "      <th>groundOutsToAirouts</th>\n",
       "      <th>catchersInterference</th>\n",
       "      <th>atBatsPerHomeRun</th>\n",
       "    </tr>\n",
       "  </thead>\n",
       "  <tbody>\n",
       "    <tr>\n",
       "      <th>0</th>\n",
       "      <td>665</td>\n",
       "      <td>337</td>\n",
       "      <td>278</td>\n",
       "      <td>0</td>\n",
       "      <td>4</td>\n",
       "      <td>0.298</td>\n",
       "      <td>72</td>\n",
       "      <td>13</td>\n",
       "      <td>14</td>\n",
       "      <td>118</td>\n",
       "      <td>...</td>\n",
       "      <td>0.544</td>\n",
       "      <td>0.860</td>\n",
       "      <td>0</td>\n",
       "      <td>1</td>\n",
       "      <td>1.000</td>\n",
       "      <td>14</td>\n",
       "      <td>121</td>\n",
       "      <td>0.86</td>\n",
       "      <td>0</td>\n",
       "      <td>12.92</td>\n",
       "    </tr>\n",
       "    <tr>\n",
       "      <th>1</th>\n",
       "      <td>659</td>\n",
       "      <td>272</td>\n",
       "      <td>249</td>\n",
       "      <td>0</td>\n",
       "      <td>10</td>\n",
       "      <td>0.293</td>\n",
       "      <td>62</td>\n",
       "      <td>22</td>\n",
       "      <td>28</td>\n",
       "      <td>113</td>\n",
       "      <td>...</td>\n",
       "      <td>0.481</td>\n",
       "      <td>0.832</td>\n",
       "      <td>0</td>\n",
       "      <td>1</td>\n",
       "      <td>1.000</td>\n",
       "      <td>28</td>\n",
       "      <td>117</td>\n",
       "      <td>1.21</td>\n",
       "      <td>0</td>\n",
       "      <td>18.87</td>\n",
       "    </tr>\n",
       "    <tr>\n",
       "      <th>2</th>\n",
       "      <td>595</td>\n",
       "      <td>288</td>\n",
       "      <td>227</td>\n",
       "      <td>0</td>\n",
       "      <td>2</td>\n",
       "      <td>0.352</td>\n",
       "      <td>61</td>\n",
       "      <td>7</td>\n",
       "      <td>5</td>\n",
       "      <td>92</td>\n",
       "      <td>...</td>\n",
       "      <td>0.524</td>\n",
       "      <td>0.870</td>\n",
       "      <td>4</td>\n",
       "      <td>12</td>\n",
       "      <td>.750</td>\n",
       "      <td>5</td>\n",
       "      <td>116</td>\n",
       "      <td>0.84</td>\n",
       "      <td>0</td>\n",
       "      <td>17.19</td>\n",
       "    </tr>\n",
       "    <tr>\n",
       "      <th>3</th>\n",
       "      <td>664</td>\n",
       "      <td>318</td>\n",
       "      <td>284</td>\n",
       "      <td>0</td>\n",
       "      <td>4</td>\n",
       "      <td>0.307</td>\n",
       "      <td>76</td>\n",
       "      <td>7</td>\n",
       "      <td>13</td>\n",
       "      <td>95</td>\n",
       "      <td>...</td>\n",
       "      <td>0.538</td>\n",
       "      <td>0.890</td>\n",
       "      <td>5</td>\n",
       "      <td>5</td>\n",
       "      <td>.500</td>\n",
       "      <td>13</td>\n",
       "      <td>113</td>\n",
       "      <td>0.99</td>\n",
       "      <td>0</td>\n",
       "      <td>15.55</td>\n",
       "    </tr>\n",
       "    <tr>\n",
       "      <th>4</th>\n",
       "      <td>555</td>\n",
       "      <td>252</td>\n",
       "      <td>233</td>\n",
       "      <td>0</td>\n",
       "      <td>3</td>\n",
       "      <td>0.260</td>\n",
       "      <td>57</td>\n",
       "      <td>4</td>\n",
       "      <td>7</td>\n",
       "      <td>68</td>\n",
       "      <td>...</td>\n",
       "      <td>0.491</td>\n",
       "      <td>0.772</td>\n",
       "      <td>0</td>\n",
       "      <td>5</td>\n",
       "      <td>1.000</td>\n",
       "      <td>7</td>\n",
       "      <td>113</td>\n",
       "      <td>0.57</td>\n",
       "      <td>0</td>\n",
       "      <td>13.50</td>\n",
       "    </tr>\n",
       "  </tbody>\n",
       "</table>\n",
       "<p>5 rows × 53 columns</p>\n",
       "</div>"
      ],
      "text/plain": [
       "   plateAppearances  totalBases  leftOnBase  sacBunts  sacFlies  babip  \\\n",
       "0               665         337         278         0         4  0.298   \n",
       "1               659         272         249         0        10  0.293   \n",
       "2               595         288         227         0         2  0.352   \n",
       "3               664         318         284         0         4  0.307   \n",
       "4               555         252         233         0         3  0.260   \n",
       "\n",
       "   extraBaseHits  hitByPitch  gidp  gidpOpp  ...    slg    ops  \\\n",
       "0             72          13    14      118  ...  0.544  0.860   \n",
       "1             62          22    28      113  ...  0.481  0.832   \n",
       "2             61           7     5       92  ...  0.524  0.870   \n",
       "3             76           7    13       95  ...  0.538  0.890   \n",
       "4             57           4     7       68  ...  0.491  0.772   \n",
       "\n",
       "   caughtStealing  stolenBases  stolenBasePercentage  groundIntoDoublePlay  \\\n",
       "0               0            1                 1.000                    14   \n",
       "1               0            1                 1.000                    28   \n",
       "2               4           12                  .750                     5   \n",
       "3               5            5                  .500                    13   \n",
       "4               0            5                 1.000                     7   \n",
       "\n",
       "   rbi  groundOutsToAirouts  catchersInterference  atBatsPerHomeRun  \n",
       "0  121                 0.86                     0             12.92  \n",
       "1  117                 1.21                     0             18.87  \n",
       "2  116                 0.84                     0             17.19  \n",
       "3  113                 0.99                     0             15.55  \n",
       "4  113                 0.57                     0             13.50  \n",
       "\n",
       "[5 rows x 53 columns]"
      ]
     },
     "execution_count": 48,
     "metadata": {},
     "output_type": "execute_result"
    }
   ],
   "source": [
    "df.drop(columns=drop_cols, axis=1, inplace=True)\n",
    "df.head()"
   ]
  },
  {
   "cell_type": "code",
   "execution_count": 55,
   "id": "44dc94e9-7f1c-41d5-8c5b-ae06ae9f721a",
   "metadata": {},
   "outputs": [],
   "source": [
    "bases_mean = df[df[\"stolenBasePercentage\"] != \".---\"]"
   ]
  },
  {
   "cell_type": "code",
   "execution_count": 56,
   "id": "869d3630-24f6-44a1-bd7c-719623083b9b",
   "metadata": {
    "tags": []
   },
   "outputs": [
    {
     "data": {
      "text/plain": [
       "0.824125"
      ]
     },
     "execution_count": 56,
     "metadata": {},
     "output_type": "execute_result"
    }
   ],
   "source": [
    "bases_mean = pd.to_numeric(bases_mean[\"stolenBasePercentage\"])\n",
    "bases_mean.mean()"
   ]
  },
  {
   "cell_type": "code",
   "execution_count": 57,
   "id": "b37aac55-4495-4aa2-818c-226e90568250",
   "metadata": {},
   "outputs": [],
   "source": [
    "df.replace({\"stolenBasePercentage\": {\".---\" : bases_mean.mean()}}, inplace=True)"
   ]
  },
  {
   "cell_type": "code",
   "execution_count": 58,
   "id": "c6dbffb4-5cea-48e2-a5fa-dbaf6b6b7e51",
   "metadata": {
    "collapsed": true,
    "jupyter": {
     "outputs_hidden": true
    },
    "tags": []
   },
   "outputs": [
    {
     "data": {
      "text/plain": [
       "0        1.000\n",
       "1        1.000\n",
       "2         .750\n",
       "3         .500\n",
       "4        1.000\n",
       "5         .800\n",
       "6         .800\n",
       "7         .000\n",
       "8         .833\n",
       "9         .800\n",
       "10        .571\n",
       "11       1.000\n",
       "12       1.000\n",
       "13        .871\n",
       "14        .962\n",
       "15        .938\n",
       "16        .750\n",
       "17        .750\n",
       "18       1.000\n",
       "19        .722\n",
       "20       1.000\n",
       "21        .875\n",
       "22    0.824125\n",
       "23       1.000\n",
       "24        .857\n",
       "Name: stolenBasePercentage, dtype: object"
      ]
     },
     "execution_count": 58,
     "metadata": {},
     "output_type": "execute_result"
    }
   ],
   "source": [
    "df[\"stolenBasePercentage\"]"
   ]
  },
  {
   "cell_type": "code",
   "execution_count": 59,
   "id": "b9cabdf5-cb3b-4375-ad61-e45dba39dc1f",
   "metadata": {
    "tags": []
   },
   "outputs": [],
   "source": [
    "df = df.apply(pd.to_numeric)"
   ]
  },
  {
   "cell_type": "markdown",
   "id": "bb9de10a-db3a-452a-9a3a-c2e1d5d7c8be",
   "metadata": {},
   "source": [
    "# Linear Regression to predict RBI"
   ]
  },
  {
   "cell_type": "code",
   "execution_count": 88,
   "id": "0748b342-5ab0-499b-8c75-ccb3dd92cffe",
   "metadata": {},
   "outputs": [],
   "source": [
    "y = df[\"rbi\"]\n",
    "x = df.drop(\"rbi\",axis=1)"
   ]
  },
  {
   "cell_type": "markdown",
   "id": "1f140bfe-b16e-4559-b60d-b14bf2eb5e04",
   "metadata": {},
   "source": [
    "### Normalize data"
   ]
  },
  {
   "cell_type": "code",
   "execution_count": 61,
   "id": "c309aea7-07c8-49a8-841f-2e39d94c10b3",
   "metadata": {
    "tags": []
   },
   "outputs": [
    {
     "data": {
      "text/html": [
       "<div>\n",
       "<style scoped>\n",
       "    .dataframe tbody tr th:only-of-type {\n",
       "        vertical-align: middle;\n",
       "    }\n",
       "\n",
       "    .dataframe tbody tr th {\n",
       "        vertical-align: top;\n",
       "    }\n",
       "\n",
       "    .dataframe thead th {\n",
       "        text-align: right;\n",
       "    }\n",
       "</style>\n",
       "<table border=\"1\" class=\"dataframe\">\n",
       "  <thead>\n",
       "    <tr style=\"text-align: right;\">\n",
       "      <th></th>\n",
       "      <th>0</th>\n",
       "      <th>1</th>\n",
       "      <th>2</th>\n",
       "      <th>3</th>\n",
       "      <th>4</th>\n",
       "      <th>5</th>\n",
       "      <th>6</th>\n",
       "      <th>7</th>\n",
       "      <th>8</th>\n",
       "      <th>9</th>\n",
       "      <th>...</th>\n",
       "      <th>42</th>\n",
       "      <th>43</th>\n",
       "      <th>44</th>\n",
       "      <th>45</th>\n",
       "      <th>46</th>\n",
       "      <th>47</th>\n",
       "      <th>48</th>\n",
       "      <th>49</th>\n",
       "      <th>50</th>\n",
       "      <th>51</th>\n",
       "    </tr>\n",
       "  </thead>\n",
       "  <tbody>\n",
       "    <tr>\n",
       "      <th>0</th>\n",
       "      <td>0.691099</td>\n",
       "      <td>0.793651</td>\n",
       "      <td>0.938144</td>\n",
       "      <td>0.0</td>\n",
       "      <td>0.222222</td>\n",
       "      <td>0.507042</td>\n",
       "      <td>0.517241</td>\n",
       "      <td>0.55</td>\n",
       "      <td>0.461538</td>\n",
       "      <td>1.000000</td>\n",
       "      <td>...</td>\n",
       "      <td>0.291667</td>\n",
       "      <td>0.650307</td>\n",
       "      <td>0.491039</td>\n",
       "      <td>0.0</td>\n",
       "      <td>0.037037</td>\n",
       "      <td>1.00</td>\n",
       "      <td>0.461538</td>\n",
       "      <td>0.473684</td>\n",
       "      <td>0.0</td>\n",
       "      <td>0.120192</td>\n",
       "    </tr>\n",
       "    <tr>\n",
       "      <th>1</th>\n",
       "      <td>0.659686</td>\n",
       "      <td>0.277778</td>\n",
       "      <td>0.639175</td>\n",
       "      <td>0.0</td>\n",
       "      <td>0.888889</td>\n",
       "      <td>0.471831</td>\n",
       "      <td>0.172414</td>\n",
       "      <td>1.00</td>\n",
       "      <td>1.000000</td>\n",
       "      <td>0.918033</td>\n",
       "      <td>...</td>\n",
       "      <td>0.583333</td>\n",
       "      <td>0.263804</td>\n",
       "      <td>0.390681</td>\n",
       "      <td>0.0</td>\n",
       "      <td>0.037037</td>\n",
       "      <td>1.00</td>\n",
       "      <td>1.000000</td>\n",
       "      <td>0.934211</td>\n",
       "      <td>0.0</td>\n",
       "      <td>0.692308</td>\n",
       "    </tr>\n",
       "    <tr>\n",
       "      <th>2</th>\n",
       "      <td>0.324607</td>\n",
       "      <td>0.404762</td>\n",
       "      <td>0.412371</td>\n",
       "      <td>0.0</td>\n",
       "      <td>0.000000</td>\n",
       "      <td>0.887324</td>\n",
       "      <td>0.137931</td>\n",
       "      <td>0.25</td>\n",
       "      <td>0.115385</td>\n",
       "      <td>0.573770</td>\n",
       "      <td>...</td>\n",
       "      <td>0.541667</td>\n",
       "      <td>0.527607</td>\n",
       "      <td>0.526882</td>\n",
       "      <td>0.4</td>\n",
       "      <td>0.444444</td>\n",
       "      <td>0.75</td>\n",
       "      <td>0.115385</td>\n",
       "      <td>0.447368</td>\n",
       "      <td>0.0</td>\n",
       "      <td>0.530769</td>\n",
       "    </tr>\n",
       "    <tr>\n",
       "      <th>3</th>\n",
       "      <td>0.685864</td>\n",
       "      <td>0.642857</td>\n",
       "      <td>1.000000</td>\n",
       "      <td>0.0</td>\n",
       "      <td>0.222222</td>\n",
       "      <td>0.570423</td>\n",
       "      <td>0.655172</td>\n",
       "      <td>0.25</td>\n",
       "      <td>0.423077</td>\n",
       "      <td>0.622951</td>\n",
       "      <td>...</td>\n",
       "      <td>0.591667</td>\n",
       "      <td>0.613497</td>\n",
       "      <td>0.598566</td>\n",
       "      <td>0.5</td>\n",
       "      <td>0.185185</td>\n",
       "      <td>0.50</td>\n",
       "      <td>0.423077</td>\n",
       "      <td>0.644737</td>\n",
       "      <td>0.0</td>\n",
       "      <td>0.373077</td>\n",
       "    </tr>\n",
       "    <tr>\n",
       "      <th>4</th>\n",
       "      <td>0.115183</td>\n",
       "      <td>0.119048</td>\n",
       "      <td>0.474227</td>\n",
       "      <td>0.0</td>\n",
       "      <td>0.111111</td>\n",
       "      <td>0.239437</td>\n",
       "      <td>0.000000</td>\n",
       "      <td>0.10</td>\n",
       "      <td>0.192308</td>\n",
       "      <td>0.180328</td>\n",
       "      <td>...</td>\n",
       "      <td>0.000000</td>\n",
       "      <td>0.325153</td>\n",
       "      <td>0.175627</td>\n",
       "      <td>0.0</td>\n",
       "      <td>0.185185</td>\n",
       "      <td>1.00</td>\n",
       "      <td>0.192308</td>\n",
       "      <td>0.092105</td>\n",
       "      <td>0.0</td>\n",
       "      <td>0.175962</td>\n",
       "    </tr>\n",
       "  </tbody>\n",
       "</table>\n",
       "<p>5 rows × 52 columns</p>\n",
       "</div>"
      ],
      "text/plain": [
       "         0         1         2    3         4         5         6     7   \\\n",
       "0  0.691099  0.793651  0.938144  0.0  0.222222  0.507042  0.517241  0.55   \n",
       "1  0.659686  0.277778  0.639175  0.0  0.888889  0.471831  0.172414  1.00   \n",
       "2  0.324607  0.404762  0.412371  0.0  0.000000  0.887324  0.137931  0.25   \n",
       "3  0.685864  0.642857  1.000000  0.0  0.222222  0.570423  0.655172  0.25   \n",
       "4  0.115183  0.119048  0.474227  0.0  0.111111  0.239437  0.000000  0.10   \n",
       "\n",
       "         8         9   ...        42        43        44   45        46    47  \\\n",
       "0  0.461538  1.000000  ...  0.291667  0.650307  0.491039  0.0  0.037037  1.00   \n",
       "1  1.000000  0.918033  ...  0.583333  0.263804  0.390681  0.0  0.037037  1.00   \n",
       "2  0.115385  0.573770  ...  0.541667  0.527607  0.526882  0.4  0.444444  0.75   \n",
       "3  0.423077  0.622951  ...  0.591667  0.613497  0.598566  0.5  0.185185  0.50   \n",
       "4  0.192308  0.180328  ...  0.000000  0.325153  0.175627  0.0  0.185185  1.00   \n",
       "\n",
       "         48        49   50        51  \n",
       "0  0.461538  0.473684  0.0  0.120192  \n",
       "1  1.000000  0.934211  0.0  0.692308  \n",
       "2  0.115385  0.447368  0.0  0.530769  \n",
       "3  0.423077  0.644737  0.0  0.373077  \n",
       "4  0.192308  0.092105  0.0  0.175962  \n",
       "\n",
       "[5 rows x 52 columns]"
      ]
     },
     "execution_count": 61,
     "metadata": {},
     "output_type": "execute_result"
    }
   ],
   "source": [
    "from sklearn import preprocessing\n",
    "\n",
    "min_max_scaler = preprocessing.MinMaxScaler()\n",
    "x_scaled = min_max_scaler.fit_transform(x)\n",
    "df_x = pd.DataFrame(x_scaled)\n",
    "df_x.head()"
   ]
  },
  {
   "cell_type": "markdown",
   "id": "42685bd6-7327-412e-bfc1-3c2c80a1231d",
   "metadata": {},
   "source": [
    "### Forward Selection"
   ]
  },
  {
   "cell_type": "code",
   "execution_count": null,
   "id": "124117c3-d138-4f8b-9394-af7d78f0bc83",
   "metadata": {},
   "outputs": [],
   "source": []
  },
  {
   "cell_type": "markdown",
   "id": "3deb0ddb-32e8-4218-bf2c-17553ae55532",
   "metadata": {},
   "source": [
    "### Model Training"
   ]
  },
  {
   "cell_type": "code",
   "execution_count": 62,
   "id": "5833969d-d946-4bc5-9473-6235d4c3433b",
   "metadata": {},
   "outputs": [],
   "source": [
    "from sklearn.model_selection import train_test_split\n",
    "\n",
    "X_train, X_test, y_train, y_test = train_test_split(df_x, y, test_size = 0.3, random_state=101)"
   ]
  },
  {
   "cell_type": "code",
   "execution_count": 70,
   "id": "474dc8b8-9460-48db-bded-93fa2d27bdf1",
   "metadata": {},
   "outputs": [
    {
     "data": {
      "text/plain": [
       "LinearRegression()"
      ]
     },
     "execution_count": 70,
     "metadata": {},
     "output_type": "execute_result"
    }
   ],
   "source": [
    "from sklearn.linear_model import LinearRegression\n",
    "reg = LinearRegression()\n",
    "reg.fit(X_train, y_train)"
   ]
  },
  {
   "cell_type": "code",
   "execution_count": 72,
   "id": "435472f5-fdbe-4922-9e43-55460569ea68",
   "metadata": {},
   "outputs": [
    {
     "name": "stdout",
     "output_type": "stream",
     "text": [
      "[  2.44846847   0.84679956   8.20347634   0.37038117  -2.23726644\n",
      "  -1.01272495  -1.25901117  14.25202666  -2.54819781   4.39403129\n",
      "  -4.41799244 -11.85886102   3.15177571   1.75987946   0.28894536\n",
      "   5.33116234  -0.11124035  -5.23893475   0.88664117   1.67439778\n",
      "  -0.1415787    3.3119328   -0.82678147  -1.86928639  -7.46360748\n",
      "  -0.85002102  -0.26281609   0.1077704   -1.90203499   0.81430464\n",
      "  10.71421231  -1.70041274  -6.28397142  -2.80304958   0.95343284\n",
      "   1.41260319   3.08048413   3.84739455   4.33825325  -1.22688373\n",
      "  -3.30412165  -0.51200023   1.80073741  -2.18259597  -0.44226894\n",
      "   4.28206741   3.55265822   3.14698866  -2.4468279   -1.26077857\n",
      "   0.           3.41874183]\n"
     ]
    }
   ],
   "source": [
    "# Get all the beta coefficients\n",
    "print(reg.coef_)"
   ]
  },
  {
   "cell_type": "code",
   "execution_count": 73,
   "id": "9b14cff1-f0f2-42cb-935a-16ac1994177b",
   "metadata": {},
   "outputs": [
    {
     "data": {
      "text/plain": [
       "1.0"
      ]
     },
     "execution_count": 73,
     "metadata": {},
     "output_type": "execute_result"
    }
   ],
   "source": [
    "reg.score(X_train,y_train)"
   ]
  },
  {
   "cell_type": "code",
   "execution_count": 90,
   "id": "b8b44381-ff36-4b6b-9512-d8c66f142d7c",
   "metadata": {},
   "outputs": [
    {
     "data": {
      "text/plain": [
       "0    101\n",
       "1    106\n",
       "2     99\n",
       "3    100\n",
       "4    107\n",
       "5     99\n",
       "6    116\n",
       "Name: rbi, dtype: int64"
      ]
     },
     "execution_count": 90,
     "metadata": {},
     "output_type": "execute_result"
    }
   ],
   "source": [
    "y_test.reset_index(drop=True)"
   ]
  },
  {
   "cell_type": "code",
   "execution_count": 80,
   "id": "c0b85037-ac17-477b-842a-d96a462981b6",
   "metadata": {},
   "outputs": [],
   "source": [
    "y_pred = reg.predict(X_test)"
   ]
  },
  {
   "cell_type": "code",
   "execution_count": 113,
   "id": "27f09794-6481-4357-8ded-35087efdc6a7",
   "metadata": {
    "tags": []
   },
   "outputs": [
    {
     "name": "stdout",
     "output_type": "stream",
     "text": [
      "146.16704024028624\n",
      "-3.41021242104312\n"
     ]
    }
   ],
   "source": [
    "from sklearn.metrics import mean_squared_error\n",
    "from sklearn.metrics import r2_score\n",
    "\n",
    "print(mean_squared_error(y_test, y_pred))\n",
    "print(r2_score(y_test, y_pred))"
   ]
  }
 ],
 "metadata": {
  "kernelspec": {
   "display_name": "Python 3",
   "language": "python",
   "name": "python3"
  },
  "language_info": {
   "codemirror_mode": {
    "name": "ipython",
    "version": 3
   },
   "file_extension": ".py",
   "mimetype": "text/x-python",
   "name": "python",
   "nbconvert_exporter": "python",
   "pygments_lexer": "ipython3",
   "version": "3.8.8"
  }
 },
 "nbformat": 4,
 "nbformat_minor": 5
}
